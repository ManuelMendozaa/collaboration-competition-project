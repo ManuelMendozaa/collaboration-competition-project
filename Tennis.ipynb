{
 "cells": [
  {
   "cell_type": "markdown",
   "metadata": {},
   "source": [
    "# Collaboration and Competition\n",
    "\n",
    "---\n",
    "\n",
    "You are welcome to use this coding environment to train your agent for the project.  Follow the instructions below to get started!\n",
    "\n",
    "### 1. Start the Environment\n",
    "\n",
    "Run the next code cell to install a few packages.  This line will take a few minutes to run!"
   ]
  },
  {
   "cell_type": "code",
   "execution_count": 1,
   "metadata": {},
   "outputs": [
    {
     "name": "stdout",
     "output_type": "stream",
     "text": [
      "\u001b[31mtensorflow 1.7.1 has requirement numpy>=1.13.3, but you'll have numpy 1.12.1 which is incompatible.\u001b[0m\r\n",
      "\u001b[31mipython 6.5.0 has requirement prompt-toolkit<2.0.0,>=1.0.15, but you'll have prompt-toolkit 3.0.30 which is incompatible.\u001b[0m\r\n",
      "\u001b[31mjupyter-console 6.4.3 has requirement jupyter-client>=7.0.0, but you'll have jupyter-client 5.2.4 which is incompatible.\u001b[0m\r\n"
     ]
    }
   ],
   "source": [
    "!pip -q install ./python\n",
    "!pip -q install typing_extensions"
   ]
  },
  {
   "cell_type": "markdown",
   "metadata": {},
   "source": [
    "The environment is already saved in the Workspace and can be accessed at the file path provided below. "
   ]
  },
  {
   "cell_type": "code",
   "execution_count": 2,
   "metadata": {},
   "outputs": [
    {
     "name": "stderr",
     "output_type": "stream",
     "text": [
      "INFO:unityagents:\n",
      "'Academy' started successfully!\n",
      "Unity Academy name: Academy\n",
      "        Number of Brains: 1\n",
      "        Number of External Brains : 1\n",
      "        Lesson number : 0\n",
      "        Reset Parameters :\n",
      "\t\t\n",
      "Unity brain name: TennisBrain\n",
      "        Number of Visual Observations (per agent): 0\n",
      "        Vector Observation space type: continuous\n",
      "        Vector Observation space size (per agent): 8\n",
      "        Number of stacked Vector Observation: 3\n",
      "        Vector Action space type: continuous\n",
      "        Vector Action space size (per agent): 2\n",
      "        Vector Action descriptions: , \n"
     ]
    }
   ],
   "source": [
    "from unityagents import UnityEnvironment\n",
    "import numpy as np\n",
    "\n",
    "env = UnityEnvironment(file_name=\"/data/Tennis_Linux_NoVis/Tennis\")"
   ]
  },
  {
   "cell_type": "markdown",
   "metadata": {},
   "source": [
    "Environments contain **_brains_** which are responsible for deciding the actions of their associated agents. Here we check for the first brain available, and set it as the default brain we will be controlling from Python."
   ]
  },
  {
   "cell_type": "code",
   "execution_count": 3,
   "metadata": {},
   "outputs": [],
   "source": [
    "# get the default brain\n",
    "brain_name = env.brain_names[0]\n",
    "brain = env.brains[brain_name]"
   ]
  },
  {
   "cell_type": "markdown",
   "metadata": {},
   "source": [
    "### 2. Examine the State and Action Spaces\n",
    "\n",
    "Run the code cell below to print some information about the environment."
   ]
  },
  {
   "cell_type": "code",
   "execution_count": 4,
   "metadata": {},
   "outputs": [
    {
     "name": "stdout",
     "output_type": "stream",
     "text": [
      "Number of agents: 2\n",
      "Size of each action: 2\n",
      "There are 2 agents. Each observes a state with length: 24\n",
      "The state for the first agent looks like: [ 0.          0.          0.          0.          0.          0.          0.\n",
      "  0.          0.          0.          0.          0.          0.          0.\n",
      "  0.          0.         -6.65278625 -1.5        -0.          0.\n",
      "  6.83172083  6.         -0.          0.        ]\n"
     ]
    }
   ],
   "source": [
    "# reset the environment\n",
    "env_info = env.reset(train_mode=True)[brain_name]\n",
    "\n",
    "# number of agents \n",
    "num_agents = len(env_info.agents)\n",
    "print('Number of agents:', num_agents)\n",
    "\n",
    "# size of each action\n",
    "action_size = brain.vector_action_space_size\n",
    "print('Size of each action:', action_size)\n",
    "\n",
    "# examine the state space \n",
    "states = env_info.vector_observations\n",
    "state_size = states.shape[1]\n",
    "print('There are {} agents. Each observes a state with length: {}'.format(states.shape[0], state_size))\n",
    "print('The state for the first agent looks like:', states[0])"
   ]
  },
  {
   "cell_type": "markdown",
   "metadata": {},
   "source": [
    "### 3. Take Random Actions in the Environment\n",
    "\n",
    "In the next code cell, you will learn how to use the Python API to control the agent and receive feedback from the environment.\n",
    "\n",
    "Note that **in this coding environment, you will not be able to watch the agents while they are training**, and you should set `train_mode=True` to restart the environment."
   ]
  },
  {
   "cell_type": "code",
   "execution_count": 5,
   "metadata": {
    "scrolled": false
   },
   "outputs": [
    {
     "name": "stdout",
     "output_type": "stream",
     "text": [
      "Total score (averaged over agents) this episode: -0.004999999888241291\n",
      "Total score (averaged over agents) this episode: -0.004999999888241291\n",
      "Total score (averaged over agents) this episode: -0.004999999888241291\n",
      "Total score (averaged over agents) this episode: -0.004999999888241291\n",
      "Total score (averaged over agents) this episode: -0.004999999888241291\n"
     ]
    }
   ],
   "source": [
    "for i in range(5):                                         # play game for 5 episodes\n",
    "    env_info = env.reset(train_mode=False)[brain_name]     # reset the environment    \n",
    "    states = env_info.vector_observations                  # get the current state (for each agent)\n",
    "    scores = np.zeros(num_agents)                          # initialize the score (for each agent)\n",
    "    while True:\n",
    "        actions = np.random.randn(num_agents, action_size) # select an action (for each agent)\n",
    "        actions = np.clip(actions, -1, 1)                  # all actions between -1 and 1\n",
    "        env_info = env.step(actions)[brain_name]           # send all actions to tne environment\n",
    "        next_states = env_info.vector_observations         # get next state (for each agent)\n",
    "        rewards = env_info.rewards                         # get reward (for each agent)\n",
    "        dones = env_info.local_done                        # see if episode finished\n",
    "        scores += env_info.rewards                         # update the score (for each agent) \n",
    "        states = next_states                               # roll over states to next time step\n",
    "        if np.any(dones):                                  # exit loop if episode finished\n",
    "            break\n",
    "    print('Total score (averaged over agents) this episode: {}'.format(np.mean(scores)))"
   ]
  },
  {
   "cell_type": "markdown",
   "metadata": {},
   "source": [
    "When finished, you can close the environment."
   ]
  },
  {
   "cell_type": "markdown",
   "metadata": {},
   "source": [
    "### 4. It's Your Turn!\n",
    "\n",
    "Now it's your turn to train your own agent to solve the environment!  A few **important notes**:\n",
    "- When training the environment, set `train_mode=True`, so that the line for resetting the environment looks like the following:\n",
    "```python\n",
    "env_info = env.reset(train_mode=True)[brain_name]\n",
    "```\n",
    "- To structure your work, you're welcome to work directly in this Jupyter notebook, or you might like to start over with a new file!  You can see the list of files in the workspace by clicking on **_Jupyter_** in the top left corner of the notebook.\n",
    "- In this coding environment, you will not be able to watch the agents while they are training.  However, **_after training the agents_**, you can download the saved model weights to watch the agents on your own machine! "
   ]
  },
  {
   "cell_type": "code",
   "execution_count": 6,
   "metadata": {},
   "outputs": [],
   "source": [
    "import random\n",
    "import numpy as np\n",
    "import torch\n",
    "import matplotlib.pyplot as plt\n",
    "from collections import deque\n",
    "\n",
    "from buffer import ReplayMemory, PrioritizedMemory\n",
    "from agent import Agent"
   ]
  },
  {
   "cell_type": "code",
   "execution_count": 7,
   "metadata": {},
   "outputs": [],
   "source": [
    "# System arguments\n",
    "params = {\n",
    "    'buffer_size': int(1e6),\n",
    "    'batch_size': 128,\n",
    "    'gamma': 0.99,\n",
    "    'tau': 7e-3,\n",
    "    'lr': 6.25e-5,\n",
    "    'epsilon': 1,\n",
    "    'epsilon_decay': 1e-4,\n",
    "    'epsilon_decay_type': 'linear',  # 'linear' or 'exponential'\n",
    "    'min_experience': 4096,\n",
    "    'device': torch.device(\"cuda:0\" if torch.cuda.is_available() else \"cpu\"),\n",
    "    'n_steps': 4,\n",
    "    'learning_iters': 5,\n",
    "    'extensions': ['Prioritized Replay'],\n",
    "    'layer_units': [256, 256],\n",
    "    'ou_theta': 0.2,\n",
    "    'ou_sigma': 0.15,\n",
    "    'saved_frames': 3,\n",
    "}"
   ]
  },
  {
   "cell_type": "code",
   "execution_count": 8,
   "metadata": {},
   "outputs": [],
   "source": [
    "def train_agent(n_episodes=500, max_t=1000, solved_score=0.5, greedy_score=1.5, consec_episodes=100, print_every=1, train_mode=True):\n",
    "    scores_list = []                                    # list containing scores from each episode\n",
    "    scores_window = deque(maxlen=consec_episodes)       # last `consec_episodes` scores\n",
    "    moving_average = []\n",
    "    solved=False\n",
    "    \n",
    "    for i_episode in range(1, n_episodes+1):\n",
    "        # Reset environment\n",
    "        env_info = env.reset(train_mode=train_mode)[brain_name]\n",
    "        # Extract initial state\n",
    "        states = env_info.vector_observations\n",
    "        # Prepare scores vector\n",
    "        scores = np.zeros(num_agents)\n",
    "        # Reset agent's noise\n",
    "        agent.reset()\n",
    "\n",
    "        for t in range(max_t):\n",
    "            # Select agent's action\n",
    "            action_0 = agent.act(states[0])\n",
    "            action_1 = agent.act(states[1])\n",
    "            actions = np.concatenate((action_0, action_1), axis=0).flatten()\n",
    "            \n",
    "            # Send action to the environment\n",
    "            env_info = env.step(actions)[brain_name]\n",
    "            # Get state update\n",
    "            next_states = env_info.vector_observations\n",
    "            # Get action reward\n",
    "            rewards = env_info.rewards\n",
    "            # Check if episode has concluded\n",
    "            dones = env_info.local_done\n",
    "            \n",
    "            # Save tuples in buffer\n",
    "            # for i in range(len(rewards)):\n",
    "                # agent.save_experience(full_state, actions[i], rewards[i], full_next_state, dones[i], i)\n",
    "                \n",
    "            agent.step(states[0], action_0, rewards[0], next_states[0], dones[0])\n",
    "            agent.step(states[1], action_1, rewards[1], next_states[1], dones[1])\n",
    "            \n",
    "            # Update episode's state and scores\n",
    "            states = next_states\n",
    "            scores += rewards\n",
    "            \n",
    "            # Exit loop if episode has concluded\n",
    "            if np.any(dones): break\n",
    "\n",
    "        # Save scores\n",
    "        scores_window.append(np.max(scores))\n",
    "        scores_list.append(np.max(scores))\n",
    "        moving_average.append(np.mean(scores_window))\n",
    "        \n",
    "        # Visualization\n",
    "        # print('\\rEpisode {}\\tMean Score: {:.2f}'.format(i_episode, scores_window[-1], end=\"\"))\n",
    "        if i_episode % print_every == 0:\n",
    "            min_score = np.min(scores_list[-print_every:])\n",
    "            max_score = np.max(scores_list[-print_every:])\n",
    "            mean_score = np.mean(scores_list[-print_every:])\n",
    "            print('Episode {}\\tMean Score: {:.3f}\\tMin Score: {:.3f}  |  Max Score: {:.3f}'.format(i_episode, mean_score, min_score, max_score, end=\"\"))\n",
    "            \n",
    "        if np.mean(scores_window) >= solved_score and i_episode > consec_episodes and not solved:\n",
    "            print('\\nEnvironment solved in {: d} episodes!\\tMean Score: {: .3f}\\n'.format(i_episode-100, np.mean(scores_window)))\n",
    "            torch.save(agent._actor_local.state_dict(), 'main_actor_weights.pth')\n",
    "            torch.save(agent._critic_local.state_dict(), 'main_critic_weights.pth')\n",
    "            solved = True\n",
    "            \n",
    "        if np.mean(scores_window) >= greedy_score and i_episode > consec_episodes:\n",
    "            print('\\nGreedy score reached in {: d} episodes!\\tMean Score: {: .3f}'.format(i_episode-100, np.mean(scores_window)))\n",
    "            torch.save(agent._actor_local.state_dict(), 'greedy_actor_weights.pth')\n",
    "            torch.save(agent._critic_local.state_dict(), 'greedy_critic_weights.pth')\n",
    "            break\n",
    "            \n",
    "            \n",
    "    return scores_list, moving_average\n",
    "    "
   ]
  },
  {
   "cell_type": "code",
   "execution_count": 9,
   "metadata": {
    "scrolled": false
   },
   "outputs": [
    {
     "name": "stdout",
     "output_type": "stream",
     "text": [
      "Episode 10\tMean Score: 0.020\tMin Score: 0.000  |  Max Score: 0.100\n",
      "Episode 20\tMean Score: 0.010\tMin Score: 0.000  |  Max Score: 0.100\n",
      "Episode 30\tMean Score: 0.020\tMin Score: 0.000  |  Max Score: 0.100\n",
      "Episode 40\tMean Score: 0.010\tMin Score: 0.000  |  Max Score: 0.100\n",
      "Episode 50\tMean Score: 0.010\tMin Score: 0.000  |  Max Score: 0.100\n",
      "Episode 60\tMean Score: 0.000\tMin Score: 0.000  |  Max Score: 0.000\n",
      "Episode 70\tMean Score: 0.000\tMin Score: 0.000  |  Max Score: 0.000\n",
      "Episode 80\tMean Score: 0.010\tMin Score: 0.000  |  Max Score: 0.100\n",
      "Episode 90\tMean Score: 0.000\tMin Score: 0.000  |  Max Score: 0.000\n",
      "Episode 100\tMean Score: 0.030\tMin Score: 0.000  |  Max Score: 0.100\n",
      "Episode 110\tMean Score: 0.000\tMin Score: 0.000  |  Max Score: 0.000\n",
      "Episode 120\tMean Score: 0.010\tMin Score: 0.000  |  Max Score: 0.100\n",
      "Episode 130\tMean Score: 0.000\tMin Score: 0.000  |  Max Score: 0.000\n",
      "Episode 140\tMean Score: 0.000\tMin Score: 0.000  |  Max Score: 0.000\n",
      "Episode 150\tMean Score: 0.000\tMin Score: 0.000  |  Max Score: 0.000\n",
      "Episode 160\tMean Score: 0.000\tMin Score: 0.000  |  Max Score: 0.000\n",
      "Episode 170\tMean Score: 0.000\tMin Score: 0.000  |  Max Score: 0.000\n",
      "Episode 180\tMean Score: 0.010\tMin Score: 0.000  |  Max Score: 0.100\n",
      "Episode 190\tMean Score: 0.088\tMin Score: 0.000  |  Max Score: 0.300\n",
      "Episode 200\tMean Score: 0.048\tMin Score: 0.000  |  Max Score: 0.200\n",
      "Episode 210\tMean Score: 0.088\tMin Score: 0.000  |  Max Score: 0.200\n",
      "Episode 220\tMean Score: 0.029\tMin Score: 0.000  |  Max Score: 0.100\n",
      "Episode 230\tMean Score: 0.065\tMin Score: 0.000  |  Max Score: 0.100\n",
      "Episode 240\tMean Score: 0.049\tMin Score: 0.000  |  Max Score: 0.100\n",
      "Episode 250\tMean Score: 0.020\tMin Score: 0.000  |  Max Score: 0.100\n",
      "Episode 260\tMean Score: 0.010\tMin Score: 0.000  |  Max Score: 0.100\n",
      "Episode 270\tMean Score: 0.080\tMin Score: 0.000  |  Max Score: 0.200\n",
      "Episode 280\tMean Score: 0.100\tMin Score: 0.100  |  Max Score: 0.100\n",
      "Episode 290\tMean Score: 0.160\tMin Score: 0.100  |  Max Score: 0.200\n",
      "Episode 300\tMean Score: 0.150\tMin Score: 0.100  |  Max Score: 0.300\n",
      "Episode 310\tMean Score: 0.158\tMin Score: 0.090  |  Max Score: 0.200\n",
      "Episode 320\tMean Score: 0.169\tMin Score: 0.100  |  Max Score: 0.300\n",
      "Episode 330\tMean Score: 0.169\tMin Score: 0.100  |  Max Score: 0.200\n",
      "Episode 340\tMean Score: 0.156\tMin Score: 0.100  |  Max Score: 0.290\n",
      "Episode 350\tMean Score: 0.119\tMin Score: 0.000  |  Max Score: 0.300\n",
      "Episode 360\tMean Score: 0.058\tMin Score: 0.000  |  Max Score: 0.100\n",
      "Episode 370\tMean Score: 0.130\tMin Score: 0.000  |  Max Score: 0.400\n",
      "Episode 380\tMean Score: 0.109\tMin Score: 0.090  |  Max Score: 0.200\n",
      "Episode 390\tMean Score: 0.128\tMin Score: 0.090  |  Max Score: 0.300\n",
      "Episode 400\tMean Score: 0.118\tMin Score: 0.090  |  Max Score: 0.200\n",
      "Episode 410\tMean Score: 0.159\tMin Score: 0.100  |  Max Score: 0.400\n",
      "Episode 420\tMean Score: 0.229\tMin Score: 0.100  |  Max Score: 0.500\n",
      "Episode 430\tMean Score: 0.306\tMin Score: 0.090  |  Max Score: 1.000\n",
      "Episode 440\tMean Score: 0.340\tMin Score: 0.100  |  Max Score: 1.300\n",
      "Episode 450\tMean Score: 0.389\tMin Score: 0.090  |  Max Score: 1.500\n",
      "Episode 460\tMean Score: 0.439\tMin Score: 0.100  |  Max Score: 1.300\n",
      "Episode 470\tMean Score: 0.670\tMin Score: 0.100  |  Max Score: 2.100\n",
      "Episode 480\tMean Score: 0.660\tMin Score: 0.200  |  Max Score: 1.400\n",
      "Episode 490\tMean Score: 0.758\tMin Score: 0.190  |  Max Score: 1.700\n",
      "Episode 500\tMean Score: 0.649\tMin Score: 0.100  |  Max Score: 2.190\n",
      "\n",
      "Environment solved in  407 episodes!\tMean Score:  0.501\n",
      "\n",
      "Episode 510\tMean Score: 0.879\tMin Score: 0.200  |  Max Score: 2.600\n",
      "Episode 520\tMean Score: 0.950\tMin Score: 0.000  |  Max Score: 2.600\n",
      "Episode 530\tMean Score: 0.577\tMin Score: 0.100  |  Max Score: 1.990\n",
      "Episode 540\tMean Score: 1.079\tMin Score: 0.200  |  Max Score: 2.600\n",
      "Episode 550\tMean Score: 0.360\tMin Score: 0.100  |  Max Score: 1.400\n",
      "Episode 560\tMean Score: 0.740\tMin Score: 0.100  |  Max Score: 1.700\n",
      "Episode 570\tMean Score: 2.009\tMin Score: 0.000  |  Max Score: 2.600\n",
      "Episode 580\tMean Score: 1.830\tMin Score: 0.000  |  Max Score: 2.600\n",
      "Episode 590\tMean Score: 2.380\tMin Score: 0.100  |  Max Score: 2.700\n",
      "Episode 600\tMean Score: 1.188\tMin Score: 0.100  |  Max Score: 2.700\n",
      "Episode 610\tMean Score: 1.530\tMin Score: 0.100  |  Max Score: 2.700\n",
      "Episode 620\tMean Score: 1.430\tMin Score: 0.000  |  Max Score: 2.600\n",
      "Episode 630\tMean Score: 1.659\tMin Score: 0.000  |  Max Score: 2.600\n",
      "Episode 640\tMean Score: 1.810\tMin Score: 0.000  |  Max Score: 2.600\n",
      "\n",
      "Greedy score reached in  542 episodes!\tMean Score:  1.510\n"
     ]
    }
   ],
   "source": [
    "agent = Agent(state_size, action_size, params)\n",
    "scores, moving_average = train_agent(n_episodes=2000, print_every=10)"
   ]
  },
  {
   "cell_type": "code",
   "execution_count": 10,
   "metadata": {},
   "outputs": [],
   "source": [
    "def print_results(results, average):\n",
    "    fig = plt.figure()\n",
    "    plt.plot(np.arange(len(results)), results)\n",
    "    plt.plot(np.arange(len(results)), average, c='r')\n",
    "    plt.ylabel('Score')\n",
    "    plt.xlabel('Episode #')\n",
    "    plt.show()"
   ]
  },
  {
   "cell_type": "code",
   "execution_count": 11,
   "metadata": {
    "scrolled": true
   },
   "outputs": [
    {
     "data": {
      "image/png": "[encoded data removed]",
      "text/plain": [
       "<matplotlib.figure.Figure at 0x7f7ca82ef9b0>"
      ]
     },
     "metadata": {
      "needs_background": "light"
     },
     "output_type": "display_data"
    }
   ],
   "source": [
    "print_results(scores, moving_average)"
   ]
  }
 ],
 "metadata": {
  "kernelspec": {
   "display_name": "Python 3",
   "language": "python",
   "name": "python3"
  },
  "language_info": {
   "codemirror_mode": {
    "name": "ipython",
    "version": 3
   },
   "file_extension": ".py",
   "mimetype": "text/x-python",
   "name": "python",
   "nbconvert_exporter": "python",
   "pygments_lexer": "ipython3",
   "version": "3.6.3"
  }
 },
 "nbformat": 4,
 "nbformat_minor": 2
}
